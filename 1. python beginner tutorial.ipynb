{
 "cells": [
  {
   "cell_type": "code",
   "execution_count": 45,
   "metadata": {},
   "outputs": [
    {
     "name": "stdout",
     "output_type": "stream",
     "text": [
      "hello world\n",
      "abyy\n",
      "19\n",
      "prioo\n",
      "23.5\n",
      "True\n"
     ]
    }
   ],
   "source": [
    "print(\"hello world\")\n",
    "\n",
    "name = \"abyy\"\n",
    "age = 19\n",
    "print(name)\n",
    "print(age)\n",
    "\n",
    "name = \"prioo\"\n",
    "age = 23.5\n",
    "print(name)\n",
    "print(age)\n",
    "\n",
    "is_genius = True\n",
    "print(is_genius)"
   ]
  },
  {
   "cell_type": "code",
   "execution_count": 46,
   "metadata": {},
   "outputs": [
    {
     "name": "stdout",
     "output_type": "stream",
     "text": [
      "what is your name? elsa\n",
      "Hello elsa\n"
     ]
    }
   ],
   "source": [
    "your_name = input(\"what is your name? \")\n",
    "print(\"Hello \" + your_name) #concatenation"
   ]
  },
  {
   "cell_type": "code",
   "execution_count": 47,
   "metadata": {},
   "outputs": [
    {
     "name": "stdout",
     "output_type": "stream",
     "text": [
      "enter your old age: 23\n",
      "27\n",
      "12.0\n"
     ]
    }
   ],
   "source": [
    "old_age=input(\"enter your old age: \")\n",
    "new_age= int(old_age) + 4 #type conversion\n",
    "print(new_age)\n",
    "\n",
    "no = 12\n",
    "print(float(no)) #type conversion- 12.0"
   ]
  },
  {
   "cell_type": "code",
   "execution_count": 48,
   "metadata": {},
   "outputs": [
    {
     "name": "stdout",
     "output_type": "stream",
     "text": [
      "enter first number: 7\n",
      "enter second number: 5\n",
      "the sum is 12\n"
     ]
    }
   ],
   "source": [
    "## print sum of two numbers\n",
    "\n",
    "first = input(\"enter first number: \")\n",
    "second = input(\"enter second number: \")\n",
    "\n",
    "sum=int(first)+int(second)\n",
    "print(\"the sum is \" + str(sum))"
   ]
  },
  {
   "cell_type": "code",
   "execution_count": 49,
   "metadata": {},
   "outputs": [
    {
     "name": "stdout",
     "output_type": "stream",
     "text": [
      "arithmetic problem\n",
      "ARITHMETIC PROBLEM\n",
      "ArIthMeTic prObLem\n",
      "7\n",
      "ArIthMeTic SoLuTion\n",
      "ArIthMeTic prObLem\n",
      "True\n"
     ]
    }
   ],
   "source": [
    "## strings\n",
    "\n",
    "a = \"ArIthMeTic prObLem\"\n",
    "print(a.lower()) #arithmetic problem\n",
    "print(a.upper()) #ARITHMETIC PROBLEM\n",
    "print(a) #ArIthMeTic prObLem\n",
    "\n",
    "print(a.find('T')) #ans-7\n",
    "print(a.replace(\"prObLem\", \"SoLuTion\")) #ArIthMeTic SoLuTion\n",
    "print(a) #ArIthMeTic prObLem\n",
    "print(\"Ob\" in a) #True"
   ]
  },
  {
   "cell_type": "code",
   "execution_count": 50,
   "metadata": {},
   "outputs": [
    {
     "name": "stdout",
     "output_type": "stream",
     "text": [
      "8\n",
      "2\n",
      "15\n",
      "1.6666666666666667\n",
      "1\n",
      "2\n",
      "25\n"
     ]
    }
   ],
   "source": [
    "## arithmetic operator\n",
    "\n",
    "print(5 + 3) #8\n",
    "print(5 - 3) #2\n",
    "print(5 * 3) #15\n",
    "print(5 / 3) #1.6666666666666667\n",
    "print(5 // 3) #1(no decimal)\n",
    "print(5 % 3) #2\n",
    "print(5 ** 2) #25"
   ]
  },
  {
   "cell_type": "code",
   "execution_count": 51,
   "metadata": {},
   "outputs": [
    {
     "name": "stdout",
     "output_type": "stream",
     "text": [
      "3\n",
      "6\n",
      "5\n",
      "100\n",
      "50.0\n"
     ]
    }
   ],
   "source": [
    "## shortcuts\n",
    "\n",
    "i=3\n",
    "print(i) #3\n",
    "i+=3\n",
    "print(i) #6\n",
    "i-=1\n",
    "print(i) #5\n",
    "i*=20\n",
    "print(i) #100\n",
    "i/=2\n",
    "print(i) #50.0"
   ]
  },
  {
   "cell_type": "code",
   "execution_count": 52,
   "metadata": {},
   "outputs": [
    {
     "name": "stdout",
     "output_type": "stream",
     "text": [
      "-6\n",
      "False\n",
      "True\n"
     ]
    }
   ],
   "source": [
    "## operator precedence\n",
    "print(4-2*5) #-6\n",
    "\n",
    "## comparison operator\n",
    "print(3>4) #False\n",
    "print(98!=5) #True\n",
    "\n",
    "## logical operators\n",
    "\n"
   ]
  },
  {
   "cell_type": "code",
   "execution_count": null,
   "metadata": {},
   "outputs": [],
   "source": []
  }
 ],
 "metadata": {
  "kernelspec": {
   "display_name": "Python 3",
   "language": "python",
   "name": "python3"
  },
  "language_info": {
   "codemirror_mode": {
    "name": "ipython",
    "version": 3
   },
   "file_extension": ".py",
   "mimetype": "text/x-python",
   "name": "python",
   "nbconvert_exporter": "python",
   "pygments_lexer": "ipython3",
   "version": "3.8.3"
  }
 },
 "nbformat": 4,
 "nbformat_minor": 4
}
