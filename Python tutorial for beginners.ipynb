{
 "cells": [
  {
   "cell_type": "code",
   "execution_count": 1,
   "metadata": {},
   "outputs": [
    {
     "name": "stdout",
     "output_type": "stream",
     "text": [
      "hello world\n",
      "abyy\n",
      "19\n",
      "prioo\n",
      "23.5\n",
      "True\n"
     ]
    }
   ],
   "source": [
    "print(\"hello world\")\n",
    "\n",
    "name = \"abyy\"\n",
    "age = 19\n",
    "print(name)\n",
    "print(age)\n",
    "\n",
    "name = \"prioo\"\n",
    "age = 23.5\n",
    "print(name)\n",
    "print(age)\n",
    "\n",
    "is_genius = True\n",
    "print(is_genius)"
   ]
  },
  {
   "cell_type": "code",
   "execution_count": 2,
   "metadata": {},
   "outputs": [
    {
     "name": "stdout",
     "output_type": "stream",
     "text": [
      "what is your name? ELSA\n",
      "Hello ELSA\n"
     ]
    }
   ],
   "source": [
    "your_name = input(\"what is your name? \")\n",
    "print(\"Hello \" + your_name) #concatenation"
   ]
  },
  {
   "cell_type": "code",
   "execution_count": 3,
   "metadata": {},
   "outputs": [
    {
     "name": "stdout",
     "output_type": "stream",
     "text": [
      "enter your old age: 46\n",
      "50\n",
      "12.0\n"
     ]
    }
   ],
   "source": [
    "old_age=input(\"enter your old age: \")\n",
    "new_age= int(old_age) + 4 #type conversion\n",
    "print(new_age)\n",
    "\n",
    "no = 12\n",
    "print(float(no)) #type conversion- 12.0"
   ]
  },
  {
   "cell_type": "code",
   "execution_count": 4,
   "metadata": {},
   "outputs": [
    {
     "name": "stdout",
     "output_type": "stream",
     "text": [
      "enter first number: 3\n",
      "enter second number: 7\n",
      "the sum is 10\n"
     ]
    }
   ],
   "source": [
    "## print sum of two numbers\n",
    "\n",
    "first = input(\"enter first number: \")\n",
    "second = input(\"enter second number: \")\n",
    "\n",
    "sum=int(first)+int(second)\n",
    "print(\"the sum is \" + str(sum))"
   ]
  },
  {
   "cell_type": "code",
   "execution_count": 5,
   "metadata": {},
   "outputs": [
    {
     "name": "stdout",
     "output_type": "stream",
     "text": [
      "arithmetic problem\n",
      "ARITHMETIC PROBLEM\n",
      "ArIthMeTic prObLem\n",
      "7\n",
      "ArIthMeTic SoLuTion\n",
      "ArIthMeTic prObLem\n",
      "True\n"
     ]
    }
   ],
   "source": [
    "## strings\n",
    "\n",
    "a = \"ArIthMeTic prObLem\"\n",
    "print(a.lower()) #arithmetic problem\n",
    "print(a.upper()) #ARITHMETIC PROBLEM\n",
    "print(a) #ArIthMeTic prObLem\n",
    "\n",
    "print(a.find('T')) #ans-7\n",
    "print(a.replace(\"prObLem\", \"SoLuTion\")) #ArIthMeTic SoLuTion\n",
    "print(a) #ArIthMeTic prObLem\n",
    "print(\"Ob\" in a) #True"
   ]
  },
  {
   "cell_type": "code",
   "execution_count": 6,
   "metadata": {},
   "outputs": [
    {
     "name": "stdout",
     "output_type": "stream",
     "text": [
      "8\n",
      "2\n",
      "15\n",
      "1.6666666666666667\n",
      "1\n",
      "2\n",
      "25\n"
     ]
    }
   ],
   "source": [
    "## arithmetic operator\n",
    "\n",
    "print(5 + 3) #8\n",
    "print(5 - 3) #2\n",
    "print(5 * 3) #15\n",
    "print(5 / 3) #1.6666666666666667\n",
    "print(5 // 3) #1(no decimal)\n",
    "print(5 % 3) #2\n",
    "print(5 ** 2) #25"
   ]
  },
  {
   "cell_type": "code",
   "execution_count": 7,
   "metadata": {},
   "outputs": [
    {
     "name": "stdout",
     "output_type": "stream",
     "text": [
      "3\n",
      "6\n",
      "5\n",
      "100\n",
      "50.0\n"
     ]
    }
   ],
   "source": [
    "## shortcuts\n",
    "\n",
    "i=3\n",
    "print(i) #3\n",
    "i+=3\n",
    "print(i) #6\n",
    "i-=1\n",
    "print(i) #5\n",
    "i*=20\n",
    "print(i) #100\n",
    "i/=2\n",
    "print(i) #50.0"
   ]
  },
  {
   "cell_type": "code",
   "execution_count": 8,
   "metadata": {},
   "outputs": [
    {
     "name": "stdout",
     "output_type": "stream",
     "text": [
      "-6\n",
      "False\n",
      "True\n",
      "True\n",
      "False\n",
      "True\n"
     ]
    }
   ],
   "source": [
    "## operator precedence\n",
    "print(4-2*5) #-6\n",
    "\n",
    "## comparison operator\n",
    "print(3>4) #False\n",
    "print(98!=5) #True\n",
    "\n",
    "## logical operators\n",
    "print(2>3 or 2>1) #True\n",
    "print(2>3 and 2>1) #False\n",
    "print(not 2>3) #True"
   ]
  },
  {
   "cell_type": "code",
   "execution_count": 9,
   "metadata": {},
   "outputs": [
    {
     "name": "stdout",
     "output_type": "stream",
     "text": [
      "enter age:  6\n",
      "you are in school\n",
      "you are human being\n"
     ]
    }
   ],
   "source": [
    "# if else\n",
    "\n",
    "citizen_age = input(\"enter age:  \")\n",
    "citizen_age = int(citizen_age)\n",
    "\n",
    "if citizen_age>=18:\n",
    "    print(\"you are an adult\")\n",
    "    print(\"you can vote\")\n",
    "elif citizen_age<18 and citizen_age>3:\n",
    "    print(\"you are in school\")\n",
    "else:\n",
    "    print(\"you are a baby\")\n",
    "    \n",
    "print(\"you are human being\")"
   ]
  },
  {
   "cell_type": "code",
   "execution_count": 10,
   "metadata": {},
   "outputs": [
    {
     "name": "stdout",
     "output_type": "stream",
     "text": [
      "enter first number: 9\n",
      "enter operator(+,-,*,/,%): %\n",
      "enter second number: 5\n",
      "4\n"
     ]
    }
   ],
   "source": [
    "#mini project (calculator)\n",
    "first = input(\"enter first number: \")\n",
    "operator = input(\"enter operator(+,-,*,/,%): \")\n",
    "second = input(\"enter second number: \")\n",
    "\n",
    "first=int(first)\n",
    "second=int(second)\n",
    "\n",
    "if operator == '+':\n",
    "    print(first+second)\n",
    "elif operator == '-':\n",
    "    print(first-second)\n",
    "elif operator == '*':\n",
    "    print(first*second)\n",
    "elif operator == '/':\n",
    "    print(first/second)\n",
    "elif operator == '%':\n",
    "    print(first%second)\n",
    "else:\n",
    "    print(\"wrong operator\")"
   ]
  },
  {
   "cell_type": "code",
   "execution_count": 11,
   "metadata": {},
   "outputs": [
    {
     "name": "stdout",
     "output_type": "stream",
     "text": [
      "range(0, 5)\n"
     ]
    }
   ],
   "source": [
    "#range\n",
    "numbers = range(5)\n",
    "print(numbers)"
   ]
  },
  {
   "cell_type": "code",
   "execution_count": 12,
   "metadata": {},
   "outputs": [
    {
     "name": "stdout",
     "output_type": "stream",
     "text": [
      "#\n",
      "##\n",
      "###\n",
      "####\n",
      "#####\n",
      "@@@@@@@\n",
      "@@@@@@\n",
      "@@@@@\n",
      "@@@@\n",
      "@@@\n",
      "@@\n",
      "@\n",
      "\n"
     ]
    }
   ],
   "source": [
    "#while loop\n",
    "i=1\n",
    "while i<=5:\n",
    "    print(i * \"#\")\n",
    "    i+=1\n",
    "    \n",
    "j=7\n",
    "while j>=0:\n",
    "    print(j * \"@\")\n",
    "    j-=1"
   ]
  },
  {
   "cell_type": "code",
   "execution_count": 13,
   "metadata": {},
   "outputs": [
    {
     "name": "stdout",
     "output_type": "stream",
     "text": [
      "10\n",
      "11\n",
      "12\n",
      "13\n"
     ]
    }
   ],
   "source": [
    "#for loop\n",
    "for k in range(4):\n",
    "    print(k+10)"
   ]
  },
  {
   "cell_type": "code",
   "execution_count": 19,
   "metadata": {
    "scrolled": true
   },
   "outputs": [
    {
     "name": "stdout",
     "output_type": "stream",
     "text": [
      "[95, 98, 99]\n",
      "95\n",
      "99\n",
      "[98, 99]\n",
      "95\n",
      "98\n",
      "99\n",
      "[95, 98, 99, 97]\n",
      "[95, 98, 99, 97, 96]\n",
      "True\n",
      "5\n",
      "95\n",
      "98\n",
      "99\n",
      "97\n",
      "96\n",
      "[]\n"
     ]
    }
   ],
   "source": [
    "#list\n",
    "marks=[95,98,99]\n",
    "print(marks) \n",
    "print(marks[0]) #first index\n",
    "print(marks[-1]) #first index\n",
    "print(marks[1:3]) #first & second index\n",
    "\n",
    "#for looop in list\n",
    "for score in marks:\n",
    "    print(score)\n",
    "    \n",
    "marks.append(97) #add in last\n",
    "print(marks)\n",
    "\n",
    "marks.append(96) #add in last\n",
    "print(marks)\n",
    "\n",
    "print(97 in marks) #cheching\n",
    "\n",
    "print(len(marks))\n",
    "\n",
    "a=0\n",
    "while a<len(marks):\n",
    "    print(marks[a])\n",
    "    a+=1\n",
    "    \n",
    "marks.clear()\n",
    "print(marks)"
   ]
  },
  {
   "cell_type": "code",
   "execution_count": 22,
   "metadata": {},
   "outputs": [
    {
     "name": "stdout",
     "output_type": "stream",
     "text": [
      "arti\n",
      "champa\n",
      "faraan\n",
      "arti\n",
      "faraan\n",
      "preeti\n",
      "tanvi\n"
     ]
    }
   ],
   "source": [
    "#break & cotinue\n",
    "students = [\"arti\", \"champa\", \"faraan\", \"preeti\", \"tanvi\"]\n",
    "\n",
    "for s in students:\n",
    "    if s==\"preeti\":\n",
    "        break # only upto faraan's name(before preeti)\n",
    "    print(s)\n",
    "    \n",
    "for s in students:\n",
    "    if s==\"champa\":\n",
    "        continue # except champa's name\n",
    "    print(s)"
   ]
  },
  {
   "cell_type": "code",
   "execution_count": 24,
   "metadata": {},
   "outputs": [
    {
     "name": "stdout",
     "output_type": "stream",
     "text": [
      "3\n",
      "0\n"
     ]
    }
   ],
   "source": [
    "#tuple- no addition ,deletion\n",
    "maarks=(9,3,7,3,9,9) \n",
    "print(maarks.count(9))\n",
    "print(maarks.index(9)) #first index of 9"
   ]
  },
  {
   "cell_type": "code",
   "execution_count": 29,
   "metadata": {},
   "outputs": [
    {
     "name": "stdout",
     "output_type": "stream",
     "text": [
      "{9, 3, 7}\n",
      "9\n",
      "3\n",
      "7\n"
     ]
    }
   ],
   "source": [
    "#set - unordered(no index)\n",
    "maarrks={9,7,9,3,7,3,9,9} \n",
    "print(maarrks)\n",
    "for s in maarrks:\n",
    "    print(s) \n"
   ]
  },
  {
   "cell_type": "code",
   "execution_count": 32,
   "metadata": {},
   "outputs": [
    {
     "name": "stdout",
     "output_type": "stream",
     "text": [
      "5\n",
      "{'ram': 4, 'shyaam': 5, 'prem': 3}\n",
      "{'ram': 4, 'shyaam': 12, 'prem': 3}\n"
     ]
    }
   ],
   "source": [
    "#dictionary\n",
    "info = {\"ram\" : 4, \"shyaam\" : 5}\n",
    "print(info[\"shyaam\"])\n",
    "info[\"prem\"]=3\n",
    "print(info)\n",
    "info[\"shyaam\"]=12\n",
    "print(info)"
   ]
  },
  {
   "cell_type": "code",
   "execution_count": 36,
   "metadata": {},
   "outputs": [
    {
     "name": "stdout",
     "output_type": "stream",
     "text": [
      "['__doc__', '__loader__', '__name__', '__package__', '__spec__', 'acos', 'acosh', 'asin', 'asinh', 'atan', 'atan2', 'atanh', 'ceil', 'comb', 'copysign', 'cos', 'cosh', 'degrees', 'dist', 'e', 'erf', 'erfc', 'exp', 'expm1', 'fabs', 'factorial', 'floor', 'fmod', 'frexp', 'fsum', 'gamma', 'gcd', 'hypot', 'inf', 'isclose', 'isfinite', 'isinf', 'isnan', 'isqrt', 'ldexp', 'lgamma', 'log', 'log10', 'log1p', 'log2', 'modf', 'nan', 'perm', 'pi', 'pow', 'prod', 'radians', 'remainder', 'sin', 'sinh', 'sqrt', 'tan', 'tanh', 'tau', 'trunc']\n",
      "5.0\n",
      "9\n"
     ]
    }
   ],
   "source": [
    "#in-built funtion: int(), bool()\n",
    "\n",
    "\n",
    "#module functions\n",
    "import math #or from math import *\n",
    "print(dir(math))\n",
    "\n",
    "from math import sqrt\n",
    "print(sqrt(25))\n",
    "\n",
    "\n",
    "#user defined function\n",
    "def sum(a,b=7):\n",
    "    print(a+b)\n",
    "    \n",
    "sum(2)"
   ]
  }
 ],
 "metadata": {
  "kernelspec": {
   "display_name": "Python 3",
   "language": "python",
   "name": "python3"
  },
  "language_info": {
   "codemirror_mode": {
    "name": "ipython",
    "version": 3
   },
   "file_extension": ".py",
   "mimetype": "text/x-python",
   "name": "python",
   "nbconvert_exporter": "python",
   "pygments_lexer": "ipython3",
   "version": "3.8.3"
  }
 },
 "nbformat": 4,
 "nbformat_minor": 4
}
